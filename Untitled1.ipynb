{
 "cells": [
  {
   "cell_type": "code",
   "execution_count": 2,
   "metadata": {},
   "outputs": [],
   "source": [
    "import numpy as np\n",
    "import scipy as sp\n",
    "\n",
    "import logging\n",
    "\n",
    "log = logging.getLogger('colour_transfer')\n",
    "\n",
    "eps = np.finfo(float).eps\n",
    "\n",
    "    \n",
    "def colour_transfer_idt(i0, i1, bins=300, n_rot=10, relaxation=1):\n",
    "    n_dims = i0.shape[1]\n",
    "    \n",
    "    d0 = i0.T\n",
    "    d1 = i1.T\n",
    "    \n",
    "    for i in range(n_rot):\n",
    "        \n",
    "        r = sp.stats.special_ortho_group.rvs(n_dims).astype(np.float32)\n",
    "        \n",
    "        d0r = np.dot(r, d0)\n",
    "        d1r = np.dot(r, d1)\n",
    "        d_r = np.empty_like(d0)\n",
    "        \n",
    "        for j in range(n_dims):\n",
    "            \n",
    "            lo = min(d0r[j].min(), d1r[j].min())\n",
    "            hi = max(d0r[j].max(), d1r[j].max())\n",
    "            \n",
    "            p0r, edges = np.histogram(d0r[j], bins=bins, range=[lo, hi])\n",
    "            p1r, _     = np.histogram(d1r[j], bins=bins, range=[lo, hi])\n",
    "\n",
    "            cp0r = p0r.cumsum().astype(np.float32)\n",
    "            cp0r /= cp0r[-1]\n",
    "\n",
    "            cp1r = p1r.cumsum().astype(np.float32)\n",
    "            cp1r /= cp1r[-1]\n",
    "            \n",
    "            f = np.interp(cp0r, cp1r, edges[1:])\n",
    "            \n",
    "            d_r[j] = np.interp(d0r[j], edges[1:], f, left=0, right=bins)\n",
    "        \n",
    "        d0 = relaxation * np.linalg.solve(r, (d_r - d0r)) + d0\n",
    "        \n",
    "        log.debug('Iteration %d/%d completed.', i+1, n_rot)\n",
    "    \n",
    "    return d0.T"
   ]
  },
  {
   "cell_type": "code",
   "execution_count": 3,
   "metadata": {},
   "outputs": [
    {
     "ename": "NameError",
     "evalue": "name 'name_image_1' is not defined",
     "output_type": "error",
     "traceback": [
      "\u001b[0;31m---------------------------------------------------------------------------\u001b[0m",
      "\u001b[0;31mNameError\u001b[0m                                 Traceback (most recent call last)",
      "\u001b[0;32m<ipython-input-3-0994b34a81b9>\u001b[0m in \u001b[0;36m<module>\u001b[0;34m\u001b[0m\n\u001b[1;32m      3\u001b[0m     \u001b[0;32mreturn\u001b[0m \u001b[0mimage_rgb\u001b[0m\u001b[0;34m\u001b[0m\u001b[0;34m\u001b[0m\u001b[0m\n\u001b[1;32m      4\u001b[0m \u001b[0;34m\u001b[0m\u001b[0m\n\u001b[0;32m----> 5\u001b[0;31m \u001b[0mimage1_rgb\u001b[0m \u001b[0;34m=\u001b[0m \u001b[0mread_image_rgb\u001b[0m\u001b[0;34m(\u001b[0m\u001b[0mname_image_1\u001b[0m\u001b[0;34m)\u001b[0m\u001b[0;34m\u001b[0m\u001b[0;34m\u001b[0m\u001b[0m\n\u001b[0m\u001b[1;32m      6\u001b[0m \u001b[0mimage2_rgb\u001b[0m \u001b[0;34m=\u001b[0m \u001b[0mread_image_rgb\u001b[0m\u001b[0;34m(\u001b[0m\u001b[0mname_image_2\u001b[0m\u001b[0;34m)\u001b[0m\u001b[0;34m\u001b[0m\u001b[0;34m\u001b[0m\u001b[0m\n",
      "\u001b[0;31mNameError\u001b[0m: name 'name_image_1' is not defined"
     ]
    }
   ],
   "source": [
    "def read_image_rgb(image_name):\n",
    "    image_rgb = io.imread(image_name)\n",
    "    return image_rgb\n",
    "\n",
    "image1_rgb = read_image_rgb(\"test3.jpg\")\n",
    "image2_rgb = read_image_rgb(\"test2.jpg\")"
   ]
  }
 ],
 "metadata": {
  "kernelspec": {
   "display_name": "Python 3.7.3 64-bit ('base': conda)",
   "language": "python",
   "name": "python37364bitbasecondaf09885471b934d3b8bcc78ae3f91a2e5"
  },
  "language_info": {
   "codemirror_mode": {
    "name": "ipython",
    "version": 3
   },
   "file_extension": ".py",
   "mimetype": "text/x-python",
   "name": "python",
   "nbconvert_exporter": "python",
   "pygments_lexer": "ipython3",
   "version": "3.7.3"
  }
 },
 "nbformat": 4,
 "nbformat_minor": 2
}
